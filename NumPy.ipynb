{
 "cells": [
  {
   "cell_type": "code",
   "execution_count": 1,
   "id": "33a720f6",
   "metadata": {},
   "outputs": [
    {
     "name": "stdout",
     "output_type": "stream",
     "text": [
      "Requirement already satisfied: numpy in c:\\users\\hp\\anaconda3\\lib\\site-packages (1.24.3)\n"
     ]
    }
   ],
   "source": [
    "!pip install numpy"
   ]
  },
  {
   "cell_type": "code",
   "execution_count": 2,
   "id": "83710224",
   "metadata": {},
   "outputs": [],
   "source": [
    "# Importing numpy\n",
    "import numpy as np"
   ]
  },
  {
   "cell_type": "code",
   "execution_count": 3,
   "id": "c160652f",
   "metadata": {},
   "outputs": [],
   "source": [
    "# Creating a numpy array\n",
    "arr = np.array([3, -7, 1, -4, 2])"
   ]
  },
  {
   "cell_type": "code",
   "execution_count": 5,
   "id": "891aa8c0",
   "metadata": {},
   "outputs": [
    {
     "data": {
      "text/plain": [
       "numpy.ndarray"
      ]
     },
     "execution_count": 5,
     "metadata": {},
     "output_type": "execute_result"
    }
   ],
   "source": [
    "type(arr)"
   ]
  },
  {
   "cell_type": "code",
   "execution_count": 6,
   "id": "b6e228fb",
   "metadata": {},
   "outputs": [
    {
     "name": "stdout",
     "output_type": "stream",
     "text": [
      "Indices for sorting: [1 3 2 4 0]\n"
     ]
    }
   ],
   "source": [
    "# argsort - returns the indices that would sort an array\n",
    "sorted_indices = np.argsort(arr)\n",
    "print('Indices for sorting:', sorted_indices)"
   ]
  },
  {
   "cell_type": "code",
   "execution_count": 7,
   "id": "9bebf964",
   "metadata": {},
   "outputs": [
    {
     "name": "stdout",
     "output_type": "stream",
     "text": [
      "[-7 -4  1  2  3]\n"
     ]
    }
   ],
   "source": [
    "print(arr[sorted_indices])"
   ]
  },
  {
   "cell_type": "code",
   "execution_count": 9,
   "id": "8ce8fe33",
   "metadata": {},
   "outputs": [
    {
     "name": "stdout",
     "output_type": "stream",
     "text": [
      "Values greater than 1: [3 0 0 0 2]\n"
     ]
    }
   ],
   "source": [
    "# where - returns elements chosen from x or y depending on condition\n",
    "result = np.where(arr > 1, arr, 0)\n",
    "print('Values greater than 1:', result)"
   ]
  },
  {
   "cell_type": "code",
   "execution_count": 10,
   "id": "6a27eb38",
   "metadata": {},
   "outputs": [
    {
     "data": {
      "text/plain": [
       "array([ 3, -7,  1, -4,  2])"
      ]
     },
     "execution_count": 10,
     "metadata": {},
     "output_type": "execute_result"
    }
   ],
   "source": [
    "arr"
   ]
  },
  {
   "cell_type": "code",
   "execution_count": 11,
   "id": "2aebd639",
   "metadata": {},
   "outputs": [
    {
     "name": "stdout",
     "output_type": "stream",
     "text": [
      "Absolute values: [3 7 1 4 2]\n"
     ]
    }
   ],
   "source": [
    "# abs - absolute values of the array\n",
    "abs_values = np.abs(arr)\n",
    "print('Absolute values:', abs_values)"
   ]
  },
  {
   "cell_type": "code",
   "execution_count": null,
   "id": "399bb264",
   "metadata": {},
   "outputs": [],
   "source": []
  }
 ],
 "metadata": {
  "kernelspec": {
   "display_name": "Python 3 (ipykernel)",
   "language": "python",
   "name": "python3"
  },
  "language_info": {
   "codemirror_mode": {
    "name": "ipython",
    "version": 3
   },
   "file_extension": ".py",
   "mimetype": "text/x-python",
   "name": "python",
   "nbconvert_exporter": "python",
   "pygments_lexer": "ipython3",
   "version": "3.11.5"
  }
 },
 "nbformat": 4,
 "nbformat_minor": 5
}
